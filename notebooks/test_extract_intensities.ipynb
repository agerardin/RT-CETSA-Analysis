{
 "cells": [
  {
   "cell_type": "code",
   "execution_count": 2,
   "metadata": {},
   "outputs": [
    {
     "name": "stdout",
     "output_type": "stream",
     "text": [
      "(0, 0) (0, 1) (0, 2) (1, 0) (1, 1) (1, 2)\n"
     ]
    }
   ],
   "source": [
    "import itertools\n",
    "\n",
    "row = range(0,2,1)\n",
    "col = range(0,3,1)\n",
    "print(*itertools.product(row,col))"
   ]
  }
 ],
 "metadata": {
  "kernelspec": {
   "display_name": "rt-cetsa",
   "language": "python",
   "name": "python3"
  },
  "language_info": {
   "codemirror_mode": {
    "name": "ipython",
    "version": 3
   },
   "file_extension": ".py",
   "mimetype": "text/x-python",
   "name": "python",
   "nbconvert_exporter": "python",
   "pygments_lexer": "ipython3",
   "version": "3.10.13"
  }
 },
 "nbformat": 4,
 "nbformat_minor": 2
}
