{
 "cells": [
  {
   "cell_type": "code",
   "execution_count": 2,
   "metadata": {},
   "outputs": [
    {
     "name": "stdout",
     "output_type": "stream",
     "text": [
      "[1, 2, 3, 4, 4] [1, 2, 2, 2, 5]\n"
     ]
    }
   ],
   "source": [
    "cx = [1,2.5, 3.2, 4.1, 4.9]\n",
    "cy = [1.1, 2.2, 2.9, 3.9, 5.2]\n",
    "cx_min = 1\n",
    "cy_min = 1.1\n",
    "radii_mean = 0.4\n",
    "\n",
    "\n",
    "# NOTE Get the coordinate for each well\n",
    "# TODO not clear\n",
    "# Get X and Y indices\n",
    "points = []\n",
    "for p, mval in zip([cy, cx], [int(cy_min), int(cx_min)]):\n",
    "    z_pos = list(p)\n",
    "    z_pos.sort()\n",
    "    z_index = 0\n",
    "    z_count = 1\n",
    "    Z = [z_pos[0]]\n",
    "    for z in z_pos[1:]:\n",
    "        if abs(Z[z_index] - z) < radii_mean // 3:\n",
    "            Z[z_index] = (Z[z_index] * z_count + z) / (z_count + 1)\n",
    "            z_count += 1\n",
    "        else:\n",
    "            Z[z_index] = int(Z[z_index])\n",
    "            Z.append(z)\n",
    "            z_index += 1\n",
    "            z_count = 1\n",
    "    Z[-1] = int(Z[-1])\n",
    "    points.append(Z)\n",
    "\n",
    "Y = points[0]\n",
    "X = points[1]\n",
    "\n",
    "print(X,Y)"
   ]
  }
 ],
 "metadata": {
  "kernelspec": {
   "display_name": "rt-cetsa",
   "language": "python",
   "name": "python3"
  },
  "language_info": {
   "codemirror_mode": {
    "name": "ipython",
    "version": 3
   },
   "file_extension": ".py",
   "mimetype": "text/x-python",
   "name": "python",
   "nbconvert_exporter": "python",
   "pygments_lexer": "ipython3",
   "version": "3.10.13"
  }
 },
 "nbformat": 4,
 "nbformat_minor": 2
}
