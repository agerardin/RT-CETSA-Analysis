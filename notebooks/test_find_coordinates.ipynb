{
 "cells": [
  {
   "cell_type": "code",
   "execution_count": 20,
   "metadata": {},
   "outputs": [
    {
     "name": "stdout",
     "output_type": "stream",
     "text": [
      "-0.8 -0.8\n",
      "2.8 1.8\n",
      "x:  (0, 0, 1, 1, 2, 2)\n",
      "c:  [0, 0, 1, 1, 2, 2]\n",
      "y:  (0, 1, 0, 1, 0, 1)\n",
      "r:  [0, 0, 0, 1, 1, 1]\n"
     ]
    }
   ],
   "source": [
    "import itertools\n",
    "import numpy as np\n",
    "# cx = [1,2.5, 3.2, 4.1, 4.9]\n",
    "# cy = [1.1, 2.2, 2.9, 3.9, 5.2]\n",
    "# cx_min = 1\n",
    "# cy_min = 1.1\n",
    "# radii_mean = 0.4\n",
    "\n",
    "\n",
    "height = 1\n",
    "width = 2\n",
    "all_x = np.arange(0,width+1,1)\n",
    "all_y = np.arange(0,height+1,1)\n",
    "rect = list(itertools.product(all_x, all_y))\n",
    "cx,cy = zip(*rect)\n",
    "\n",
    "\n",
    "radii_mean = 0.4\n",
    "cx_min, cx_max = np.min(cx) - 2 * radii_mean, np.max(cx) + 2 * radii_mean\n",
    "cy_min, cy_max = np.min(cy) - 2 * radii_mean, np.max(cy) + 2 * radii_mean\n",
    "\n",
    "print(cx_min, cy_min)\n",
    "print(cx_max, cy_max)\n",
    "\n",
    "\n",
    "# NOTE Get the coordinate for each well\n",
    "# TODO not clear\n",
    "# Get X and Y indices\n",
    "points = []\n",
    "for p, min_val in zip([cy, cx], [int(cy_min), int(cx_min)]):\n",
    "    z_pos = list(p)\n",
    "    z_pos.sort()\n",
    "    z_index = 0\n",
    "    z_count = 1\n",
    "    Z = [z_pos[0]]\n",
    "    for z in z_pos[1:]:\n",
    "        if abs(Z[z_index] - z) < radii_mean // 3:\n",
    "            Z[z_index] = (Z[z_index] * z_count + z) / (z_count + 1)\n",
    "            z_count += 1\n",
    "        else:\n",
    "            Z[z_index] = int(Z[z_index])\n",
    "            Z.append(z)\n",
    "            z_index += 1\n",
    "            z_count = 1\n",
    "    Z[-1] = int(Z[-1])\n",
    "    points.append(Z)\n",
    "\n",
    "Y = points[0]\n",
    "X = points[1]\n",
    "\n",
    "print(\"x: \", cx)\n",
    "print(\"c: \", X)\n",
    "print(\"y: \", cy)\n",
    "print(\"r: \", Y)"
   ]
  }
 ],
 "metadata": {
  "kernelspec": {
   "display_name": "rt-cetsa",
   "language": "python",
   "name": "python3"
  },
  "language_info": {
   "codemirror_mode": {
    "name": "ipython",
    "version": 3
   },
   "file_extension": ".py",
   "mimetype": "text/x-python",
   "name": "python",
   "nbconvert_exporter": "python",
   "pygments_lexer": "ipython3",
   "version": "3.10.13"
  }
 },
 "nbformat": 4,
 "nbformat_minor": 2
}
