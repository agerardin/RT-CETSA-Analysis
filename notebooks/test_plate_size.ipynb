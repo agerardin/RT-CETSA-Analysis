{
 "cells": [
  {
   "cell_type": "markdown",
   "metadata": {},
   "source": [
    "Check if we can guess what plate size we are looking at"
   ]
  },
  {
   "cell_type": "code",
   "execution_count": 22,
   "metadata": {},
   "outputs": [],
   "source": [
    "from enum import Enum\n",
    "\n",
    "class PlateSize(Enum):\n",
    "    \"\"\"\"Plate Size processed by the pipeline.\"\"\"\n",
    "    SIZE_6 = 6\n",
    "    SIZE_12 = 12\n",
    "    SIZE_24 = 24\n",
    "    SIZE_48 = 48\n",
    "    SIZE_96 = 96\n",
    "    SIZE_384 = 384\n",
    "    SIZE_1536 = 1536  \n",
    "\n",
    "\n",
    "# Determine the plate layout\n",
    "def determine_plate(n_wells):\n",
    "    plate_config = None\n",
    "    for layout in PlateSize:\n",
    "        # Allow for a margin of error in case some wells are undetected\n",
    "        # or extra wells are captured.\n",
    "        # NOTE should we allow for extra wells ?\n",
    "        error = abs(1 - n_wells / layout.value)\n",
    "        if error < 0.05:\n",
    "            plate_config = layout\n",
    "            break\n",
    "        else:\n",
    "            plate_config = None\n",
    "    return plate_config\n",
    "\n",
    "assert determine_plate(96) == PlateSize.SIZE_96, determine_plate(96)\n",
    "assert determine_plate(93) == PlateSize.SIZE_96\n",
    "assert determine_plate(101) == None, determine_plate(100)"
   ]
  }
 ],
 "metadata": {
  "kernelspec": {
   "display_name": "rt-cetsa",
   "language": "python",
   "name": "python3"
  },
  "language_info": {
   "codemirror_mode": {
    "name": "ipython",
    "version": 3
   },
   "file_extension": ".py",
   "mimetype": "text/x-python",
   "name": "python",
   "nbconvert_exporter": "python",
   "pygments_lexer": "ipython3",
   "version": "3.10.13"
  }
 },
 "nbformat": 4,
 "nbformat_minor": 2
}
